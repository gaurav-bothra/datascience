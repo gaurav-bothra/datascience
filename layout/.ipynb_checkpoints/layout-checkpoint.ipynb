{
 "cells": [
  {
   "cell_type": "code",
   "execution_count": 1,
   "metadata": {},
   "outputs": [
    {
     "ename": "TypeError",
     "evalue": "'NoneType' object is not subscriptable",
     "output_type": "error",
     "traceback": [
      "\u001b[1;31m---------------------------------------------------------------------------\u001b[0m",
      "\u001b[1;31mTypeError\u001b[0m                                 Traceback (most recent call last)",
      "\u001b[1;32m<ipython-input-1-6101adab3197>\u001b[0m in \u001b[0;36m<module>\u001b[1;34m()\u001b[0m\n\u001b[0;32m     43\u001b[0m \u001b[1;33m\u001b[0m\u001b[0m\n\u001b[0;32m     44\u001b[0m \u001b[0moutput1_par\u001b[0m \u001b[1;33m=\u001b[0m \u001b[0mprocess_par\u001b[0m\u001b[1;33m(\u001b[0m\u001b[0mth1\u001b[0m\u001b[1;33m,\u001b[0m\u001b[0moutput1_par\u001b[0m\u001b[1;33m)\u001b[0m\u001b[1;33m\u001b[0m\u001b[0m\n\u001b[1;32m---> 45\u001b[1;33m \u001b[0moutput1_margin\u001b[0m \u001b[1;33m=\u001b[0m \u001b[0mprocess_margin\u001b[0m\u001b[1;33m(\u001b[0m\u001b[0mth1\u001b[0m\u001b[1;33m,\u001b[0m\u001b[0moutput1_par\u001b[0m\u001b[1;33m)\u001b[0m\u001b[1;33m\u001b[0m\u001b[0m\n\u001b[0m\u001b[0;32m     46\u001b[0m \u001b[1;33m\u001b[0m\u001b[0m\n\u001b[0;32m     47\u001b[0m \u001b[0mcv2\u001b[0m\u001b[1;33m.\u001b[0m\u001b[0mimwrite\u001b[0m\u001b[1;33m(\u001b[0m\u001b[1;34m\"D:\\DataScience\\cosc428-structor\\layout\\document-layout-analysis\\output.jpg\"\u001b[0m\u001b[1;33m,\u001b[0m \u001b[0moutput1_margin\u001b[0m\u001b[1;33m)\u001b[0m\u001b[1;33m\u001b[0m\u001b[0m\n",
      "\u001b[1;32m<ipython-input-1-6101adab3197>\u001b[0m in \u001b[0;36mprocess_margin\u001b[1;34m(thresh, output)\u001b[0m\n\u001b[0;32m     33\u001b[0m                 \u001b[0mx\u001b[0m\u001b[1;33m,\u001b[0m\u001b[0my\u001b[0m\u001b[1;33m,\u001b[0m\u001b[0mw\u001b[0m\u001b[1;33m,\u001b[0m\u001b[0mh\u001b[0m \u001b[1;33m=\u001b[0m \u001b[0mcv2\u001b[0m\u001b[1;33m.\u001b[0m\u001b[0mboundingRect\u001b[0m\u001b[1;33m(\u001b[0m\u001b[0mcnt\u001b[0m\u001b[1;33m)\u001b[0m\u001b[1;33m\u001b[0m\u001b[0m\n\u001b[0;32m     34\u001b[0m                 \u001b[0mcv2\u001b[0m\u001b[1;33m.\u001b[0m\u001b[0mrectangle\u001b[0m\u001b[1;33m(\u001b[0m\u001b[0moutput\u001b[0m\u001b[1;33m,\u001b[0m\u001b[1;33m(\u001b[0m\u001b[0mx\u001b[0m\u001b[1;33m,\u001b[0m\u001b[0my\u001b[0m\u001b[1;33m)\u001b[0m\u001b[1;33m,\u001b[0m\u001b[1;33m(\u001b[0m\u001b[0mx\u001b[0m\u001b[1;33m+\u001b[0m\u001b[0mw\u001b[0m\u001b[1;33m,\u001b[0m\u001b[0my\u001b[0m\u001b[1;33m+\u001b[0m\u001b[0mh\u001b[0m\u001b[1;33m)\u001b[0m\u001b[1;33m,\u001b[0m\u001b[1;33m(\u001b[0m\u001b[1;36m0\u001b[0m\u001b[1;33m,\u001b[0m\u001b[1;36m255\u001b[0m\u001b[1;33m,\u001b[0m\u001b[1;36m0\u001b[0m\u001b[1;33m)\u001b[0m\u001b[1;33m,\u001b[0m\u001b[1;36m1\u001b[0m\u001b[1;33m)\u001b[0m\u001b[1;33m\u001b[0m\u001b[0m\n\u001b[1;32m---> 35\u001b[1;33m                 \u001b[0mcrop_img\u001b[0m \u001b[1;33m=\u001b[0m \u001b[0moutput\u001b[0m\u001b[1;33m[\u001b[0m\u001b[0my\u001b[0m\u001b[1;33m:\u001b[0m\u001b[0my\u001b[0m\u001b[1;33m+\u001b[0m\u001b[0mh\u001b[0m\u001b[1;33m,\u001b[0m \u001b[0mx\u001b[0m\u001b[1;33m:\u001b[0m\u001b[0mx\u001b[0m\u001b[1;33m+\u001b[0m\u001b[0mw\u001b[0m\u001b[1;33m]\u001b[0m\u001b[1;33m\u001b[0m\u001b[0m\n\u001b[0m\u001b[0;32m     36\u001b[0m                 \u001b[0mcv2\u001b[0m\u001b[1;33m.\u001b[0m\u001b[0mimwrite\u001b[0m\u001b[1;33m(\u001b[0m\u001b[1;34m\"D:\\DataScience\\cosc428-structor\\layout\\document-layout-analysis\\output{no}_par.jpg\"\u001b[0m\u001b[1;33m.\u001b[0m\u001b[0mformat\u001b[0m\u001b[1;33m(\u001b[0m\u001b[0mno\u001b[0m\u001b[1;33m=\u001b[0m\u001b[0mcount\u001b[0m\u001b[1;33m)\u001b[0m\u001b[1;33m,\u001b[0m \u001b[0mcrop_img\u001b[0m\u001b[1;33m)\u001b[0m\u001b[1;33m\u001b[0m\u001b[0m\n\u001b[0;32m     37\u001b[0m                 \u001b[0mcount\u001b[0m \u001b[1;33m=\u001b[0m \u001b[0mcount\u001b[0m \u001b[1;33m+\u001b[0m\u001b[1;36m1\u001b[0m\u001b[1;33m\u001b[0m\u001b[0m\n",
      "\u001b[1;31mTypeError\u001b[0m: 'NoneType' object is not subscriptable"
     ]
    }
   ],
   "source": [
    "# import necessary packages\n",
    "import numpy as np\n",
    "import matplotlib.pyplot as plt\n",
    "import cv2\n",
    "\n",
    "\n",
    "image1 = cv2.imread(\"journal1.jpg\")\n",
    "output1_par = image1.copy()\n",
    "\n",
    "gray1 = cv2.cvtColor(image1, cv2.COLOR_BGR2GRAY)\n",
    "ret1,th1 = cv2.threshold(gray1,0,255,cv2.THRESH_BINARY_INV+cv2.THRESH_OTSU)\n",
    "\n",
    "\n",
    "\n",
    "def process_par(thresh,output):\t\n",
    "\tkernel = np.ones((5,5), 'uint8')\t\n",
    "\tpar_img = cv2.dilate(thresh,kernel,iterations=3)\n",
    "\t(_, contours, _) = cv2.findContours(par_img.copy(), cv2.RETR_EXTERNAL,cv2.CHAIN_APPROX_SIMPLE)\n",
    "\tfor cnt in contours:\n",
    "\t\tx,y,w,h = cv2.boundingRect(cnt)\n",
    "# \t\tcrop_img = output[y:y+h, x:x+w]\n",
    "# \t\tcv2.imwrite(\"D:\\DataScience\\cosc428-structor\\layout\\document-layout-analysis\\output{no}_par.jpg\".format(no=count), crop_img)\n",
    "# \t\tcount = count +1\n",
    "\n",
    "#processing margin with paragraph boxing\n",
    "def process_margin(thresh,output):\t\n",
    "\t# assign a rectangle kernel size\n",
    "\tkernel = np.ones((20,5), 'uint8')\t\n",
    "\tmargin_img = cv2.dilate(thresh,kernel,iterations=5)\n",
    "\t(_, contours, _) = cv2.findContours(margin_img.copy(), cv2.RETR_EXTERNAL,cv2.CHAIN_APPROX_SIMPLE)\n",
    "\tcount=0\n",
    "\tfor cnt in contours:\n",
    "\t\tx,y,w,h = cv2.boundingRect(cnt)\n",
    "\t\tcv2.rectangle(output,(x,y),(x+w,y+h),(0,255,0),1)\n",
    "\t\tcrop_img = output[y:y+h, x:x+w]\n",
    "\t\tcv2.imwrite(\"D:\\DataScience\\layout\\output{no}_par.jpg\".format(no=count), crop_img)\n",
    "\t\tcount = count +1\n",
    "\n",
    "\treturn output\n",
    "\n",
    "output1_margin = process_margin(th1,output1_par)\n",
    "\n",
    "\n",
    "output1_par = process_par(th1,output1_par)\n",
    "output1_margin = process_margin(th1,output1_par)\n",
    "\n",
    "# cv2.imwrite(\"D:\\DataScience\\layout\\output.jpg\", output1_margin)\n",
    "cv2.waitKey(0)\n"
   ]
  }
 ],
 "metadata": {
  "kernelspec": {
   "display_name": "Python 3",
   "language": "python",
   "name": "python3"
  },
  "language_info": {
   "codemirror_mode": {
    "name": "ipython",
    "version": 3
   },
   "file_extension": ".py",
   "mimetype": "text/x-python",
   "name": "python",
   "nbconvert_exporter": "python",
   "pygments_lexer": "ipython3",
   "version": "3.7.0"
  }
 },
 "nbformat": 4,
 "nbformat_minor": 2
}
